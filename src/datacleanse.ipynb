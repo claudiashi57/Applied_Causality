{
 "cells": [
  {
   "cell_type": "code",
   "execution_count": 1,
   "metadata": {},
   "outputs": [],
   "source": [
    "import pandas as pd\n",
    "import numpy as np\n",
    "from random import randint\n",
    "import datetime\n",
    "import scipy as scipy\n",
    "\n",
    "#For Tables:\n",
    "from IPython.display import display\n",
    "from IPython.display import Latex\n",
    "pd.set_option('display.max_columns', 500)\n",
    "from ast import literal_eval\n",
    "\n",
    "\n",
    "from data_cleanse import *"
   ]
  },
  {
   "cell_type": "code",
   "execution_count": 2,
   "metadata": {
    "scrolled": true
   },
   "outputs": [
    {
     "name": "stdout",
     "output_type": "stream",
     "text": [
      "the length of the file is:  274\n"
     ]
    }
   ],
   "source": [
    "df = main(2008)"
   ]
  },
  {
   "cell_type": "code",
   "execution_count": 3,
   "metadata": {},
   "outputs": [
    {
     "name": "stdout",
     "output_type": "stream",
     "text": [
      "['Econometrica' 'Journal of Political Economy'\n",
      " 'The Review of Economic Studies']\n"
     ]
    }
   ],
   "source": [
    "print(np.unique(df['journal']))"
   ]
  },
  {
   "cell_type": "code",
   "execution_count": 8,
   "metadata": {},
   "outputs": [
    {
     "data": {
      "text/plain": [
       "['article',\n",
       " 'journal',\n",
       " 'month',\n",
       " 'year',\n",
       " 'authors',\n",
       " 'length',\n",
       " 'all_cites',\n",
       " 'abstract',\n",
       " 'id']"
      ]
     },
     "execution_count": 8,
     "metadata": {},
     "output_type": "execute_result"
    }
   ],
   "source": [
    "list(df)"
   ]
  },
  {
   "cell_type": "code",
   "execution_count": 4,
   "metadata": {},
   "outputs": [],
   "source": [
    "nobel_prize= ['Frisch,Ragnar','Tinbergen,J.',\n",
    "             'Samuelson,Paul A.','Hicks,John R.','Arrow,Kenneth J.','Leontief,Wassily','','Hayek,F. A.','Diamond,Peter A.',\n",
    "             ]"
   ]
  },
  {
   "cell_type": "code",
   "execution_count": 5,
   "metadata": {},
   "outputs": [],
   "source": [
    "nobel_year=[1969, 1969, 1970, \"kuznets\", 1971, 1972, 1972,1973,]\n",
    "#missing simon kuznets"
   ]
  },
  {
   "cell_type": "code",
   "execution_count": 6,
   "metadata": {},
   "outputs": [
    {
     "data": {
      "text/plain": [
       "array(['Abadie,Alberto, Imbens,Guido W.',\n",
       "       'Acemoglu,Daron, Egorov,Georgy, Sonin,Konstantin',\n",
       "       'Acemoglu,Daron, Finkelstein,Amy',\n",
       "       'Acemoglu,Daron, Golosov,Michael, Tsyvinski,Aleh',\n",
       "       'Acemoglu,Daron, Guerrieri,Veronica',\n",
       "       'Ackerberg,Daniel, Geweke,John, Hahn,Jinyong',\n",
       "       'Aguiar,Mark, Amador,Manuel, Gopinath,Gita', 'Al-Najjar,Nabil I.',\n",
       "       'Al-Najjar,Nabil I., Weinstein,Jonathan', 'Albouy,David',\n",
       "       'Altissimo,Filippo, Mele,Antonio',\n",
       "       'Alvarez,Fernando, Atkeson,Andrew, Kehoe,Patrick J.',\n",
       "       'Alvarez,Fernando, Lippi,Francesco',\n",
       "       'Andersen,Steffen, Harrison,Glenn W., Lau,Morten I., Rutström,E. Elisabet',\n",
       "       'Anderson,Robert M., Raimondo,Roberto C.',\n",
       "       'Andreoni,James, Bernheim,B. Douglas',\n",
       "       'Andrews,Donald W. K., Guggenberger,Patrik',\n",
       "       'Antràs,Pol, Caballero,Ricardo\\\\xa0J.',\n",
       "       'Arellano,Manuel, Bonhomme,Stéphane',\n",
       "       'Ariely,Dan, Gneezy,Uri, Loewenstein,George, Mazar,Nina',\n",
       "       'Arzaghi,Mohammad, Henderson,J. Vernon',\n",
       "       'Athey,Susan, Bagwell,Kyle',\n",
       "       'Aumann,Robert\\\\xa0J., Serrano,Roberto',\n",
       "       'Aït-Sahalia,Yacine, Jacod,Jean',\n",
       "       'Baccara,Mariagiovanna, Bar-Isaac,Heski', 'Bai,Jushan',\n",
       "       'Bai,Jushan, Carrion-I-Silvestre,Josep Lluís',\n",
       "       'Baker,Michael, Gruber,Jonathan, Milligan,Kevin',\n",
       "       'Baliga,Sandeep, Sjöström,Tomas', 'Bandi,F. M., Russell,J. R.',\n",
       "       'Bandiera,Oriana, Barankay,Iwan, Rasul,Imran', 'Barlevy,Gadi',\n",
       "       'Barndorff-Nielsen,Ole E., Hansen,Peter Reinhard, Lunde,Asger, Shephard,Neil',\n",
       "       'Battistin,Erich, Blundell,Richard, Lewbel,Arthur',\n",
       "       'Bayer,Patrick, Ross,Stephen\\\\xa0L., Topa,Giorgio',\n",
       "       'Beckert,Walter, Blundell,Richard',\n",
       "       'Bellemare,Charles, Kröger,Sabine, van Soest,Arthur',\n",
       "       'Beresteanu,Arie, Molinari,Francesca',\n",
       "       'Bergemann,Dirk, Morris,Stephen', 'Bernheim,B. D., Slavov,S. N.',\n",
       "       'Bloom,Nicholas', 'Blow,Laura, Browning,Martin, Crawford,Ian',\n",
       "       'Blundell,Richard, Browning,Martin, Crawford,Ian', 'Board,Simon',\n",
       "       'Bobonis,Gustavo\\\\xa0J.', 'Bolton,Patrick, Faure-Grimaud,Antoine',\n",
       "       'Bolton,Patrick, Jeanne,Olivier',\n",
       "       'Bonhomme,Stéphane, Robin,Jean-Marc',\n",
       "       'Bourguignon,François, Browning,Martin, Chiappori,Pierre-André',\n",
       "       'Brandenburger,Adam, Friedenberg,Amanda, Keisler,H. Jerome',\n",
       "       'Bronnenberg,Bart\\\\xa0J., Dhar,Sanjay\\\\xa0K., Dubé,Jean‐Pierre\\\\xa0H.',\n",
       "       'Brown,Jennifer, Morgan,John', 'Brunner,Antje, Krahnen,Jan Pieter',\n",
       "       'Burke,Jonathan L.', 'Bó,Ernesto Dal, Bó,Pedro Dal, Snyder,Jason',\n",
       "       'Cabrales,Antonio, Calvó-Armengol,Antoni', 'Callander,Steven',\n",
       "       'Calvó-Armengol,Antoni, Patacchini,Eleonora, Zenou,Yves',\n",
       "       'Carlson,Mark, Mitchener,Kris\\\\xa0James',\n",
       "       'Case,Anne, Paxson,Christina',\n",
       "       'Castro,Rui, Clementi,Gian Luca, Macdonald,Glenn',\n",
       "       'Chamberlain,Gary', 'Chamberlain,Gary, Moreira,Marcelo J.',\n",
       "       'Chamley,Christophe', 'Chan,Jimmy, Suen,Wing',\n",
       "       'Chang,Yoosoon, Song,Wonho',\n",
       "       'Charles,Kerwin\\\\xa0Kofi, Guryan,Jonathan',\n",
       "       'Charness,Gary, Gneezy,Uri', 'Chaudhuri,Shubham, Sethi,Rajiv',\n",
       "       'Che,Jiahua', 'Che,Yeon‐Koo, Kartik,Navin',\n",
       "       'Chen,Ying, Sobel,Joel',\n",
       "       'Cherchye,Laurens, De\\\\xa0Rock,Bram, Vermeulen,Frederic',\n",
       "       'Chesher,Andrew, Mailath,George', 'Chetty,Raj',\n",
       "       'Chiappori,P.-A., Ekeland,I.',\n",
       "       'Chiappori,Pierre‐André, Oreffice,Sonia',\n",
       "       'Ciliberto,Federico, Tamer,Elie', 'Clark,Damon',\n",
       "       'Cohen,Lauren, Frazzini,Andrea, Malloy,Christopher',\n",
       "       'Conlon,John R.', 'Copeland,Adam, Monnet,Cyril',\n",
       "       'Correia,Isabel, Nicolini,Juan\\\\xa0Pablo, Teles,Pedro',\n",
       "       'Corsetti,Giancarlo, Dedola,Luca, Leduc,Sylvain',\n",
       "       'Cortes,Patricia', 'Costa-Gomes,Miguel A., Weizsäcker,Georg',\n",
       "       'Costinot,Arnaud', 'Cox,James C., Friedman,Daniel',\n",
       "       'Cripps,Martin W., Ely,Jeffrey C., Mailath,George J., Samuelson,Larry',\n",
       "       'Currarini,Sergio, Jackson,Matthew O., Pin,Paolo',\n",
       "       'Dahl,Gordon B., Moretti,Enrico', 'Davis,Lucas\\\\xa0W.',\n",
       "       'De La Croix,David, Doepke,Matthias',\n",
       "       'Dekel,Eddie, Jackson,Matthew\\\\xa0O., Wolinsky,Asher',\n",
       "       'Dekel,Eddie, Lipman,Barton L., Rustichini,Aldo',\n",
       "       'Dionne,Georges, St-Amour,Pascal, Vencatachellum,Désiré',\n",
       "       'Djankov,Simeon, Hart,Oliver, McLiesh,Caralee, Shleifer,Andrei',\n",
       "       'Doyle\\\\xa0Jr.,Joseph\\\\xa0J.',\n",
       "       'Drago,Francesco, Galbiati,Roberto, Vertova,Pietro',\n",
       "       'Dubois,Pierre, Jullien,Bruno, Magnac,Thierry',\n",
       "       'Duffie,Darrell, Malamud,Semyon, Manso,Gustavo',\n",
       "       'Echenique,Federico, Komunjer,Ivana', 'Einav,Liran',\n",
       "       'Ellison,Glenn, Ellison,Sara Fisher', 'Epifani,Paolo, Gancia,Gino',\n",
       "       'Epstein,Larry G.', 'Evans,Robert',\n",
       "       'Fang,Hanming, Keane,Michael\\\\xa0P., Silverman,Dan',\n",
       "       'Farhi,Emmanuel, Golosov,Mikhail, Tsyvinski,Aleh',\n",
       "       'Fehr,Ernst, Tyran,Jean-Robert', 'Feinberg,Yossi, Stewart,Colin',\n",
       "       'Field,Erica, Ambrus,Attila',\n",
       "       'Firpo,Sergio, Fortin,Nicole M., Lemieux,Thomas',\n",
       "       'Fisman,Raymond, Simonson,Itamar', 'Fleck,Robert\\\\xa0K.',\n",
       "       'Florens,J. P., Heckman,J. J., Meghir,C., Vytlacil,E.',\n",
       "       'Fortnow,Lance, Vohra,Rakesh V.',\n",
       "       'Foster,Dean\\\\xa0P., Hart,Sergiu',\n",
       "       'Fujiwara-Greve,Takako, Okuno-Fujiwara,Masahiro',\n",
       "       'Galor,Oded, Moav,Omer, Vollrath,Dietrich',\n",
       "       'Galor,Oded, Mountford,Andrew',\n",
       "       'Garratt,Rodney J., Tröger,Thomas, Zheng,Charles Z.',\n",
       "       'Gavazza,Alessandro, Lizzeri,Alessandro',\n",
       "       'Gerardi,Kristopher\\\\xa0S., Shapiro,Adam\\\\xa0Hale',\n",
       "       'Gertler,Mark, Leahy,John', 'Gertler,Mark, Trigari,Antonella',\n",
       "       'Giacomini,Raffaella, Rossi,Barbara',\n",
       "       'Gneezy,Uri, Leonard,Kenneth L., List,John A.',\n",
       "       'Goeree,Michelle Sovinsky', 'Goldstein,Itay',\n",
       "       'Goldstein,Markus, Udry,Christopher',\n",
       "       'Gomes,João\\\\xa0F., Kogan,Leonid, Yogo,Motohiro',\n",
       "       'Gonçalves,Sílvia, Meddahi,Nour',\n",
       "       'Gorodnichenko,Yuriy, Martinez‐Vazquez,Jorge, Sabirianova\\\\xa0Peter,Klara',\n",
       "       'Gorton,G. B., He,Ping',\n",
       "       'Gossner,Olivier, Kalai,Ehud, Weber,Robert',\n",
       "       'Govindan,Srihari, Wilson,Robert', 'Graham,Bryan S.',\n",
       "       'Guembel,Alexander, Sussman,Oren',\n",
       "       'Guerre,Emmanuel, Perrigne,Isabelle, Vuong,Quang',\n",
       "       'Guerrieri,Veronica', 'Guerrieri,Veronica, Lorenzoni,Guido',\n",
       "       'Guvenen,Fatih', 'Hall,Robert\\\\xa0E.', 'Hansen,Lars Peter',\n",
       "       'Hansen,Lars Peter, Scheinkman,José A.',\n",
       "       'Hansen,Lars\\\\xa0Peter, Heaton,John\\\\xa0C., Li,Nan',\n",
       "       'Hayashi,Fumio, Prescott,Edward\\\\xa0C.', 'Hazan,Moshe',\n",
       "       'Heinemann,Frank, Nagel,Rosemarie, Ockenfels,Peter',\n",
       "       'Hellwig,Christian, Lorenzoni,Guido',\n",
       "       'Hellwig,Christian, Veldkamp,Laura',\n",
       "       'Hendricks,Ken, Sorensen,Alan',\n",
       "       'Heydenreich,Birgit, Müller,Rudolf, Uetz,Marc, Vohra,Rakesh V.',\n",
       "       'Hirano,Keisuke, Porter,Jack R.',\n",
       "       'Hopenhayn,Hugo A., Nicolini,Juan Pablo',\n",
       "       'Hoppe,Heidrun C., Moldovanu,Benny, Sela,Aner',\n",
       "       'Hu,Tai‐wei, Kennan,John, Wallace,Neil',\n",
       "       'Hu,Yingyao, Schennach,Susanne M.',\n",
       "       'Hurvich,Clifford M., Moulines,Eric, Soulier,Philippe',\n",
       "       'Hörner,Johannes, Jamison,Julian', 'Hörner,Johannes, Lovo,Stefano',\n",
       "       'Hörner,Johannes, Vieille,Nicolas',\n",
       "       'Imai,Susumu, Jain,Neelam, Ching,Andrew',\n",
       "       'Imbens,Guido W., Newey,Whitney K.',\n",
       "       'Jacoby,Hanan G., Mansuri,Ghazala', 'Jansson,Michael', 'Jia,Panle',\n",
       "       'Jones,Benjamin F.', 'Jovanovic,Boyan', 'Kambourov,Gueorgui',\n",
       "       'Kambourov,Gueorgui, Manovskii,Iourii',\n",
       "       'Karlan,Dean, Zinman,Jonathan', 'Karni,Edi', 'Kartik,Navin',\n",
       "       'Kasahara,Hiroyuki, Shimotsu,Katsumi',\n",
       "       'Keane,Michael P., Sauer,Robert M.',\n",
       "       'Keppo,Jussi, Smith,Lones, Davydov,Dmitry',\n",
       "       'Khan,Aubhik, Thomas,Julia K.', 'Kircher,Philipp',\n",
       "       'Kirwan,Barrett\\\\xa0E.',\n",
       "       'Klein,Paul, Krusell,Per, Ríos-Rull,José-Víctor',\n",
       "       'Kleven,Henrik Jacobsen, Kreiner,Claus Thustrup, Saez,Emmanuel',\n",
       "       'Kocherlakota,Narayana, Pistaferri,Luigi',\n",
       "       'Kuran,Timur, Sandholm,William H.', 'Lagerlöf,Nils-Petter',\n",
       "       'Lagos,Ricardo, Rocheteau,Guillaume',\n",
       "       'Landier,Augustin, Sraer,David, Thesmar,David',\n",
       "       'Lazear,Edward\\\\xa0P.', 'Lee,David S.',\n",
       "       'Lee,Sokbae, Linton,Oliver, Whang,Yoon-Jae',\n",
       "       'Lentz,Rasmus, Mortensen,Dale T.', 'Li,Hong, Müller,Ulrich K.',\n",
       "       'Li,Tong, Zheng,Xiaoyong',\n",
       "       'Liu,Laura\\\\xa0Xiaolei, Whited,Toni\\\\xa0M., Zhang,Lu',\n",
       "       'Ljungqvist,Lars, Sargent,Thomas J.', 'Lorenzoni,Guido',\n",
       "       'Magnac,Thierry, Maurin,Eric', 'Manso,Gustavo',\n",
       "       'Marion,Justin, Muehlegger,Erich', 'Marquez,Robert, Yilmaz,Bilge',\n",
       "       'Martin,Philippe, Mayer,Thierry, Thoenig,Mathias', 'Mas,Alexandre',\n",
       "       'Matouschek,Niko', 'Matzkin,Rosa L.',\n",
       "       'McAfee,R. Preston, Wiseman,Thomas', 'Mechtenberg,Lydia',\n",
       "       'Melitz,Marc J.',\n",
       "       'Mendoza,Enrique\\\\xa0G., Quadrini,Vincenzo, Ríos‐Rull,José‐Víctor',\n",
       "       'Michelacci,Claudio, Quadrini,Vincenzo',\n",
       "       'Morris,Stephen, Acemoglu,Daron, Berry,Steve, Levine,David, Newey,Whitney, Samuelson,Larry, Uhlig,Harald',\n",
       "       'Myatt,David P., Wallace,Chris', 'Mykland,Per A., Zhang,Lan',\n",
       "       'Müller,Ulrich K., Watson,Mark W.',\n",
       "       'Newey,Whitney K., Windmeijer,Frank',\n",
       "       'Nocke,Volker, Yeaple,Stephen', 'Norets,Andriy',\n",
       "       'Offerman,Theo, Sonnemans,Joep, Van De Kuilen,Gijs, Wakker,Peter P.',\n",
       "       'Olken,Benjamin\\\\xa0A., Barron,Patrick',\n",
       "       'Olszewski,Wojciech, Sandroni,Alvaro', 'Onatski,Alexei',\n",
       "       'Oprea,Ryan, Friedman,Daniel, Anderson,Steven T.',\n",
       "       'Palacios-Huerta,Ignacio, Volij,Oscar',\n",
       "       'Pavlova,Anna, Rigobon,Roberto', 'Persson,Torsten',\n",
       "       'Pesendorfer,Martin, Schmidt-Dengler,Philipp',\n",
       "       'Pinkston,Joshua C.', 'Pissarides,Christopher A.',\n",
       "       'Pitarakis,Jean-Yves', 'Plantin,Guillaume',\n",
       "       'Postlewaite,Andrew, Samuelson,Larry, Silverman,Dan',\n",
       "       'Potters,Jan, Suetens,Sigrid', 'Quah,John K.-H., Strulovici,Bruno',\n",
       "       'Rantakari,Heikki', 'Rebelo,Sergio, Végh,Carlos A.',\n",
       "       'Repullo,Rafael', 'Richardson,Gary, Troost,William',\n",
       "       'Riedel,Frank', 'Rigotti,Luca, Shannon,Chris, Strzalecki,Tomasz',\n",
       "       'Rincón-Zapatero,Juan Pablo, Rodríguez-Palmero,Carlos',\n",
       "       'Rogerson,Richard', 'Rogerson,William\\\\xa0P.',\n",
       "       'Rosenzweig,Mark R., Zhang,Junsen', 'Safra,Zvi, Segal,Uzi',\n",
       "       'Salant,Yuval, Rubinstein,Ariel', 'Sanga,Sarath', 'Sannikov,Yuliy',\n",
       "       'Sargent,Thomas, Williams,Noah, Zha,Tao', 'Sarver,Todd',\n",
       "       'Seo,Kyoungwon', 'Shi,Shouyong', 'Siegel,Ron',\n",
       "       'Sinclair-Desgagné,Bernard', 'Siniscalchi,Marciano',\n",
       "       'Soares,Rodrigo\\\\xa0R., Falcão,Bruno\\\\xa0L.\\\\xa0S.',\n",
       "       'Stachurski,John, Martin,Vance', 'Stock,James H., Watson,Mark W.',\n",
       "       'Stoye,Jörg', 'Sun,Ning, Yang,Zaifu', 'Sun,Yixiao, Jin,Sainan',\n",
       "       'Swensen,Anders Rygh', 'Teague,Vanessa',\n",
       "       'Telyukova,Irina A., Wright,Randall', 'Terviö,Marko',\n",
       "       'Vanberg,Christoph', 'Velde,François\\\\xa0R.', 'Vogel,Jonathan',\n",
       "       'Wang,Qiying, Phillips,Peter C. B.', 'Wang,Zhongmin',\n",
       "       'Weintraub,Gabriel Y., Benkard,C. Lanier, Van Roy,Benjamin',\n",
       "       'da\\\\xa0Costa,Carlos\\\\xa0E., Werning,Iván',\n",
       "       'de Clippel,Geoffroy, Serrano,Roberto'], dtype=object)"
      ]
     },
     "execution_count": 6,
     "metadata": {},
     "output_type": "execute_result"
    }
   ],
   "source": [
    "np.unique(df.authors)"
   ]
  },
  {
   "cell_type": "code",
   "execution_count": null,
   "metadata": {},
   "outputs": [],
   "source": []
  },
  {
   "cell_type": "code",
   "execution_count": 7,
   "metadata": {},
   "outputs": [],
   "source": [
    "journals=['Journal of Political Economy','Econometrica', 'The Quarterly Journal of Economics'\n",
    "'The American Economic Review','The Review of Economic Studies','The Review of Economics and Statistics',\n",
    " 'International Economic Review','The Economic Journal','Journal of Economic Literature',\n",
    "'Journal of Labor Economics','The Journal of Economic Perspectives','American Economic Journal: Macroeconomics'\n",
    " 'Journal of Economic Growth'\n",
    "]"
   ]
  }
 ],
 "metadata": {
  "kernelspec": {
   "display_name": "Python 3",
   "language": "python",
   "name": "python3"
  },
  "language_info": {
   "codemirror_mode": {
    "name": "ipython",
    "version": 3
   },
   "file_extension": ".py",
   "mimetype": "text/x-python",
   "name": "python",
   "nbconvert_exporter": "python",
   "pygments_lexer": "ipython3",
   "version": "3.7.2"
  }
 },
 "nbformat": 4,
 "nbformat_minor": 2
}
